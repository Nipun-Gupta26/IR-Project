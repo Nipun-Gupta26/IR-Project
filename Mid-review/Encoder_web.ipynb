{
  "nbformat": 4,
  "nbformat_minor": 0,
  "metadata": {
    "colab": {
      "provenance": []
    },
    "kernelspec": {
      "name": "python3",
      "display_name": "Python 3"
    },
    "language_info": {
      "name": "python"
    }
  },
  "cells": [
    {
      "cell_type": "code",
      "source": [
        "#load the model( since it is pre trained you can save it in the server only (idk shit abt web dev but something close to it))\n",
        "#Declare an object of Encoder class (you'll find it below')\n",
        "#use the encode() method wherein it takes the image_path as input and returns the feature vector of that image in the desired dim\n",
        "#only first 3 cells are important"
      ],
      "metadata": {
        "id": "vU8d9AFJpzE4"
      },
      "execution_count": null,
      "outputs": []
    },
    {
      "cell_type": "code",
      "execution_count": null,
      "metadata": {
        "id": "S4aB1T_nUoPZ"
      },
      "outputs": [],
      "source": [
        "import keras\n",
        "import pandas as pd\n",
        "import numpy as np\n",
        "import tensorflow as tf\n",
        "import pickle\n",
        "import os\n",
        "from tensorflow.keras.applications.resnet50 import ResNet50\n",
        "from tensorflow.keras.preprocessing import image\n",
        "from tensorflow.keras.applications.resnet50 import preprocess_input\n",
        "\n"
      ]
    },
    {
      "cell_type": "code",
      "source": [
        "model = ResNet50(weights = 'imagenet', include_top = False, input_shape = (224, 224,3), classes = 1000, classifier_activation = False)\n",
        "\n",
        "print(model.summary())"
      ],
      "metadata": {
        "id": "xxv5GGsyfEuj"
      },
      "execution_count": null,
      "outputs": []
    },
    {
      "cell_type": "code",
      "source": [
        "class Encoder():\n",
        "  def __init__(self, model):\n",
        "    self.model = model\n",
        "  \n",
        "  def encode(self, img_path):\n",
        "\n",
        "   #get the image path\n",
        "    img = image.load_img(img_path, target_size=(224, 224, 3)) #load the image\n",
        "    x = image.img_to_array(img)\n",
        "    x = np.expand_dims(x, axis=0) \n",
        "    x = preprocess_input(x) # convert to (1, 224, 224, 3) shaped nd-array\n",
        "\n",
        "    ftr_vector = model.predict(x) #get the output as (batch_size, 7, 7, 2048)\n",
        "    return ftr_vector\n",
        "    \n",
        "enc = Encoder(model)\n",
        "#EXAMPLE CODE\n",
        "ftr_vec = enc.encode('/content/drive/MyDrive/IR Project/Dataset/flickr30k_images/33394246.jpg')\n",
        "print(ftr_vec.shape)"
      ],
      "metadata": {
        "colab": {
          "base_uri": "https://localhost:8080/"
        },
        "id": "cDxIQZDEqOmf",
        "outputId": "00a3de31-c9ec-4683-bfb7-f7c7b64ab68a"
      },
      "execution_count": null,
      "outputs": [
        {
          "output_type": "stream",
          "name": "stdout",
          "text": [
            "1/1 [==============================] - 0s 216ms/step\n",
            "(1, 7, 7, 2048)\n"
          ]
        }
      ]
    },
    {
      "cell_type": "code",
      "source": [],
      "metadata": {
        "id": "uEDAQchlQQgL"
      },
      "execution_count": null,
      "outputs": []
    }
  ]
}