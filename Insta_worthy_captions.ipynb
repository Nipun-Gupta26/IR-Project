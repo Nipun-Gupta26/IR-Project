{
  "nbformat": 4,
  "nbformat_minor": 0,
  "metadata": {
    "colab": {
      "provenance": []
    },
    "kernelspec": {
      "name": "python3",
      "display_name": "Python 3"
    },
    "language_info": {
      "name": "python"
    }
  },
  "cells": [
    {
      "cell_type": "code",
      "execution_count": null,
      "metadata": {
        "id": "tR_tH7LR3VTV"
      },
      "outputs": [],
      "source": [
        "import pandas as pd\n",
        "import pickle"
      ]
    },
    {
      "cell_type": "code",
      "source": [
        "df_bhavya = pd.read_csv('/content/drive/MyDrive/Information Retrieval Project/Instagram worthy captions dataset/Original and Creative Captions - Bhavya.csv')\n",
        "df_bhavya = df_bhavya.drop(columns = (df_bhavya.columns[-2:]))\n",
        "df_karan = pd.read_csv('/content/drive/MyDrive/Information Retrieval Project/Instagram worthy captions dataset/Original and Creative Captions - Karan.csv')\n",
        "df_khwaish = pd.read_csv('/content/drive/MyDrive/Information Retrieval Project/Instagram worthy captions dataset/Original and Creative Captions - Khwaish.csv')\n",
        "df = df_bhavya.append(df_karan)\n",
        "df = df.append(df_khwaish)\n",
        "df = df.dropna()"
      ],
      "metadata": {
        "id": "enXmk3R045Ks",
        "colab": {
          "base_uri": "https://localhost:8080/"
        },
        "outputId": "d3307f24-0407-4321-d052-731b567daba1"
      },
      "execution_count": null,
      "outputs": [
        {
          "output_type": "stream",
          "name": "stderr",
          "text": [
            "<ipython-input-5-5f1aec1127d3>:5: FutureWarning: The frame.append method is deprecated and will be removed from pandas in a future version. Use pandas.concat instead.\n",
            "  df = df_bhavya.append(df_karan)\n",
            "<ipython-input-5-5f1aec1127d3>:6: FutureWarning: The frame.append method is deprecated and will be removed from pandas in a future version. Use pandas.concat instead.\n",
            "  df = df.append(df_khwaish)\n"
          ]
        }
      ]
    },
    {
      "cell_type": "code",
      "source": [
        "df.shape"
      ],
      "metadata": {
        "id": "AwnK251tO8MD",
        "colab": {
          "base_uri": "https://localhost:8080/"
        },
        "outputId": "af613738-179a-4f3f-d01a-01c89ab06dbb"
      },
      "execution_count": null,
      "outputs": [
        {
          "output_type": "execute_result",
          "data": {
            "text/plain": [
              "(7305, 4)"
            ]
          },
          "metadata": {},
          "execution_count": 6
        }
      ]
    },
    {
      "cell_type": "code",
      "source": [
        "df.head()"
      ],
      "metadata": {
        "colab": {
          "base_uri": "https://localhost:8080/",
          "height": 337
        },
        "id": "AmL4R02cc3Ag",
        "outputId": "6b0ce408-06cc-4a46-d052-11bc5a26f54e"
      },
      "execution_count": null,
      "outputs": [
        {
          "output_type": "execute_result",
          "data": {
            "text/plain": [
              "                                    Original Caption  \\\n",
              "0  Beauty and the beast is this prince that's all...   \n",
              "1  A rare photograph of an actor signing autographs.   \n",
              "2  A model walks the runway for a fashion show du...   \n",
              "3  Rock artist is the first artist to win a posth...   \n",
              "4                  Fat mouse with a piece of cheese.   \n",
              "\n",
              "                                  Creative Caption 1  \\\n",
              "0  \"Falling for the fairytale 🌹🥀 #beautyandthebea...   \n",
              "1  \"Capturing a moment in time 📸🎬 #hollywoodlegen...   \n",
              "2  \"Walking on air in couture flair ✨👠 #fashionwe...   \n",
              "3  \"Remembering a musical genius 🎵🤘 #rocklegend #...   \n",
              "4  \"Living my best life with some cheese 🧀😋 #food...   \n",
              "\n",
              "                                  Creative Caption 2  \\\n",
              "0  \"A tale as old as time 🕰️💕 #disneylover #fairy...   \n",
              "1  \"Inked memories for a lifetime 🖋️🎞️ #actorlife...   \n",
              "2  \"Stealing the show in style 👑🌟 #modelbehavior ...   \n",
              "3  \"Legends never die 🎸🌟 #rockstarforever #musica...   \n",
              "4  \"Food coma goals 🐭💤 #snacktime #mousediaries #...   \n",
              "\n",
              "                                  Creative Caption 3  \n",
              "0  \"Happily ever after with my beast 👸🦁 #myprince...  \n",
              "1  \"A glimpse into history 🎥🔮 #nostalgicvibes #ti...  \n",
              "2  \"Strutting my stuff in the limelight 💃🏻✨ #catw...  \n",
              "3  \"Living on through the power of music 🎶🎤 #musi...  \n",
              "4  \"Say cheese 📸🐁 #foodphotography #cutemouse #fo...  "
            ],
            "text/html": [
              "\n",
              "  <div id=\"df-ff32db9e-a08a-4866-9ab2-7f35361a5eb2\">\n",
              "    <div class=\"colab-df-container\">\n",
              "      <div>\n",
              "<style scoped>\n",
              "    .dataframe tbody tr th:only-of-type {\n",
              "        vertical-align: middle;\n",
              "    }\n",
              "\n",
              "    .dataframe tbody tr th {\n",
              "        vertical-align: top;\n",
              "    }\n",
              "\n",
              "    .dataframe thead th {\n",
              "        text-align: right;\n",
              "    }\n",
              "</style>\n",
              "<table border=\"1\" class=\"dataframe\">\n",
              "  <thead>\n",
              "    <tr style=\"text-align: right;\">\n",
              "      <th></th>\n",
              "      <th>Original Caption</th>\n",
              "      <th>Creative Caption 1</th>\n",
              "      <th>Creative Caption 2</th>\n",
              "      <th>Creative Caption 3</th>\n",
              "    </tr>\n",
              "  </thead>\n",
              "  <tbody>\n",
              "    <tr>\n",
              "      <th>0</th>\n",
              "      <td>Beauty and the beast is this prince that's all...</td>\n",
              "      <td>\"Falling for the fairytale 🌹🥀 #beautyandthebea...</td>\n",
              "      <td>\"A tale as old as time 🕰️💕 #disneylover #fairy...</td>\n",
              "      <td>\"Happily ever after with my beast 👸🦁 #myprince...</td>\n",
              "    </tr>\n",
              "    <tr>\n",
              "      <th>1</th>\n",
              "      <td>A rare photograph of an actor signing autographs.</td>\n",
              "      <td>\"Capturing a moment in time 📸🎬 #hollywoodlegen...</td>\n",
              "      <td>\"Inked memories for a lifetime 🖋️🎞️ #actorlife...</td>\n",
              "      <td>\"A glimpse into history 🎥🔮 #nostalgicvibes #ti...</td>\n",
              "    </tr>\n",
              "    <tr>\n",
              "      <th>2</th>\n",
              "      <td>A model walks the runway for a fashion show du...</td>\n",
              "      <td>\"Walking on air in couture flair ✨👠 #fashionwe...</td>\n",
              "      <td>\"Stealing the show in style 👑🌟 #modelbehavior ...</td>\n",
              "      <td>\"Strutting my stuff in the limelight 💃🏻✨ #catw...</td>\n",
              "    </tr>\n",
              "    <tr>\n",
              "      <th>3</th>\n",
              "      <td>Rock artist is the first artist to win a posth...</td>\n",
              "      <td>\"Remembering a musical genius 🎵🤘 #rocklegend #...</td>\n",
              "      <td>\"Legends never die 🎸🌟 #rockstarforever #musica...</td>\n",
              "      <td>\"Living on through the power of music 🎶🎤 #musi...</td>\n",
              "    </tr>\n",
              "    <tr>\n",
              "      <th>4</th>\n",
              "      <td>Fat mouse with a piece of cheese.</td>\n",
              "      <td>\"Living my best life with some cheese 🧀😋 #food...</td>\n",
              "      <td>\"Food coma goals 🐭💤 #snacktime #mousediaries #...</td>\n",
              "      <td>\"Say cheese 📸🐁 #foodphotography #cutemouse #fo...</td>\n",
              "    </tr>\n",
              "  </tbody>\n",
              "</table>\n",
              "</div>\n",
              "      <button class=\"colab-df-convert\" onclick=\"convertToInteractive('df-ff32db9e-a08a-4866-9ab2-7f35361a5eb2')\"\n",
              "              title=\"Convert this dataframe to an interactive table.\"\n",
              "              style=\"display:none;\">\n",
              "        \n",
              "  <svg xmlns=\"http://www.w3.org/2000/svg\" height=\"24px\"viewBox=\"0 0 24 24\"\n",
              "       width=\"24px\">\n",
              "    <path d=\"M0 0h24v24H0V0z\" fill=\"none\"/>\n",
              "    <path d=\"M18.56 5.44l.94 2.06.94-2.06 2.06-.94-2.06-.94-.94-2.06-.94 2.06-2.06.94zm-11 1L8.5 8.5l.94-2.06 2.06-.94-2.06-.94L8.5 2.5l-.94 2.06-2.06.94zm10 10l.94 2.06.94-2.06 2.06-.94-2.06-.94-.94-2.06-.94 2.06-2.06.94z\"/><path d=\"M17.41 7.96l-1.37-1.37c-.4-.4-.92-.59-1.43-.59-.52 0-1.04.2-1.43.59L10.3 9.45l-7.72 7.72c-.78.78-.78 2.05 0 2.83L4 21.41c.39.39.9.59 1.41.59.51 0 1.02-.2 1.41-.59l7.78-7.78 2.81-2.81c.8-.78.8-2.07 0-2.86zM5.41 20L4 18.59l7.72-7.72 1.47 1.35L5.41 20z\"/>\n",
              "  </svg>\n",
              "      </button>\n",
              "      \n",
              "  <style>\n",
              "    .colab-df-container {\n",
              "      display:flex;\n",
              "      flex-wrap:wrap;\n",
              "      gap: 12px;\n",
              "    }\n",
              "\n",
              "    .colab-df-convert {\n",
              "      background-color: #E8F0FE;\n",
              "      border: none;\n",
              "      border-radius: 50%;\n",
              "      cursor: pointer;\n",
              "      display: none;\n",
              "      fill: #1967D2;\n",
              "      height: 32px;\n",
              "      padding: 0 0 0 0;\n",
              "      width: 32px;\n",
              "    }\n",
              "\n",
              "    .colab-df-convert:hover {\n",
              "      background-color: #E2EBFA;\n",
              "      box-shadow: 0px 1px 2px rgba(60, 64, 67, 0.3), 0px 1px 3px 1px rgba(60, 64, 67, 0.15);\n",
              "      fill: #174EA6;\n",
              "    }\n",
              "\n",
              "    [theme=dark] .colab-df-convert {\n",
              "      background-color: #3B4455;\n",
              "      fill: #D2E3FC;\n",
              "    }\n",
              "\n",
              "    [theme=dark] .colab-df-convert:hover {\n",
              "      background-color: #434B5C;\n",
              "      box-shadow: 0px 1px 3px 1px rgba(0, 0, 0, 0.15);\n",
              "      filter: drop-shadow(0px 1px 2px rgba(0, 0, 0, 0.3));\n",
              "      fill: #FFFFFF;\n",
              "    }\n",
              "  </style>\n",
              "\n",
              "      <script>\n",
              "        const buttonEl =\n",
              "          document.querySelector('#df-ff32db9e-a08a-4866-9ab2-7f35361a5eb2 button.colab-df-convert');\n",
              "        buttonEl.style.display =\n",
              "          google.colab.kernel.accessAllowed ? 'block' : 'none';\n",
              "\n",
              "        async function convertToInteractive(key) {\n",
              "          const element = document.querySelector('#df-ff32db9e-a08a-4866-9ab2-7f35361a5eb2');\n",
              "          const dataTable =\n",
              "            await google.colab.kernel.invokeFunction('convertToInteractive',\n",
              "                                                     [key], {});\n",
              "          if (!dataTable) return;\n",
              "\n",
              "          const docLinkHtml = 'Like what you see? Visit the ' +\n",
              "            '<a target=\"_blank\" href=https://colab.research.google.com/notebooks/data_table.ipynb>data table notebook</a>'\n",
              "            + ' to learn more about interactive tables.';\n",
              "          element.innerHTML = '';\n",
              "          dataTable['output_type'] = 'display_data';\n",
              "          await google.colab.output.renderOutput(dataTable, element);\n",
              "          const docLink = document.createElement('div');\n",
              "          docLink.innerHTML = docLinkHtml;\n",
              "          element.appendChild(docLink);\n",
              "        }\n",
              "      </script>\n",
              "    </div>\n",
              "  </div>\n",
              "  "
            ]
          },
          "metadata": {},
          "execution_count": 7
        }
      ]
    },
    {
      "cell_type": "code",
      "source": [
        "import emoji\n",
        "def add_space_for_emoji(s):\n",
        "    x = ''\n",
        "    for c in s:\n",
        "        if c in emoji.UNICODE_EMOJI['en']:\n",
        "            x+=c + ' '\n",
        "        else:\n",
        "            x+=c\n",
        "    return x"
      ],
      "metadata": {
        "id": "wtH-dc98bz_Y"
      },
      "execution_count": null,
      "outputs": []
    },
    {
      "cell_type": "code",
      "source": [
        "df_without_hashtags_and_emojis_spaced = df_without_hashtags.copy()\n",
        "df_without_hashtags_and_emojis_spaced['Original Caption'] = df_without_hashtags['Original Caption'].apply(lambda x: add_space_for_emoji(x))\n",
        "df_without_hashtags_and_emojis_spaced['Creative Caption 1'] = df_without_hashtags['Creative Caption 1'].apply(lambda x: add_space_for_emoji(x))\n",
        "df_without_hashtags_and_emojis_spaced['Creative Caption 2'] = df_without_hashtags['Creative Caption 2'].apply(lambda x: add_space_for_emoji(x))\n",
        "df_without_hashtags_and_emojis_spaced['Creative Caption 3'] = df_without_hashtags['Creative Caption 3'].apply(lambda x: add_space_for_emoji(x))\n",
        "df_without_hashtags_and_emojis_spaced"
      ],
      "metadata": {
        "id": "NH1PdMNzxyrW"
      },
      "execution_count": null,
      "outputs": []
    },
    {
      "cell_type": "code",
      "source": [
        "df_without_hashtags_and_emojis_spaced.to_pickle('/content/drive/MyDrive/Information Retrieval Project/FINAL SUBMISSION FILES/final_gpt_dataset_for_creative_captions.pkl')"
      ],
      "metadata": {
        "id": "BeTp2Uoryjl1"
      },
      "execution_count": null,
      "outputs": []
    },
    {
      "cell_type": "code",
      "source": [
        "df_temp.to_csv('/content/drive/MyDrive/Information Retrieval Project/Instagram worthy captions dataset/main_dataset_with_space_emojis.csv')"
      ],
      "metadata": {
        "id": "pddtkn-Vcqu4"
      },
      "execution_count": null,
      "outputs": []
    },
    {
      "cell_type": "markdown",
      "source": [
        "GENERATING EMOJIS DF"
      ],
      "metadata": {
        "id": "NR4r3iLDdBN7"
      }
    },
    {
      "cell_type": "code",
      "source": [
        "pip install emoji~=1.6.3"
      ],
      "metadata": {
        "id": "FIZUCwKKc_8g",
        "colab": {
          "base_uri": "https://localhost:8080/"
        },
        "outputId": "b1ea8d82-0afe-4984-bc78-cbb3f30f232f"
      },
      "execution_count": null,
      "outputs": [
        {
          "output_type": "stream",
          "name": "stdout",
          "text": [
            "Looking in indexes: https://pypi.org/simple, https://us-python.pkg.dev/colab-wheels/public/simple/\n",
            "Collecting emoji~=1.6.3\n",
            "  Downloading emoji-1.6.3.tar.gz (174 kB)\n",
            "\u001b[2K     \u001b[90m━━━━━━━━━━━━━━━━━━━━━━━━━━━━━━━━━━━━━━━\u001b[0m \u001b[32m174.2/174.2 kB\u001b[0m \u001b[31m4.5 MB/s\u001b[0m eta \u001b[36m0:00:00\u001b[0m\n",
            "\u001b[?25h  Preparing metadata (setup.py) ... \u001b[?25l\u001b[?25hdone\n",
            "Building wheels for collected packages: emoji\n",
            "  Building wheel for emoji (setup.py) ... \u001b[?25l\u001b[?25hdone\n",
            "  Created wheel for emoji: filename=emoji-1.6.3-py3-none-any.whl size=170298 sha256=dc08fcb0654f3eeb1babfadfee9986c7cda107238cba7fd7df7b57aca378e059\n",
            "  Stored in directory: /root/.cache/pip/wheels/e5/c7/b3/b62b7809b5ea6d22241a713d9cc05741d7edaec674b9d61cb7\n",
            "Successfully built emoji\n",
            "Installing collected packages: emoji\n",
            "Successfully installed emoji-1.6.3\n"
          ]
        }
      ]
    },
    {
      "cell_type": "code",
      "source": [
        "import emoji\n",
        "def extract_emojis(s):\n",
        "    emojis = ''\n",
        "    for c in s:\n",
        "        if c in emoji.UNICODE_EMOJI['en']:\n",
        "            emojis+=(c + ' ')\n",
        "    return emojis"
      ],
      "metadata": {
        "id": "HoNBtKRsdELm"
      },
      "execution_count": null,
      "outputs": []
    },
    {
      "cell_type": "code",
      "source": [
        "def remove_emojis(s):\n",
        "    text = ''\n",
        "    for c in s:\n",
        "        if c not in emoji.UNICODE_EMOJI['en']:\n",
        "            text+=(c + '')\n",
        "    return text"
      ],
      "metadata": {
        "id": "VJGUnRYYEMd-"
      },
      "execution_count": null,
      "outputs": []
    },
    {
      "cell_type": "code",
      "source": [
        "master_list = []\n",
        "for i in range(len(df)):\n",
        "    for j in df.columns[1:]:\n",
        "        master_list.append(df.iloc[i][j])        "
      ],
      "metadata": {
        "id": "AhyUQYcS_Gm2"
      },
      "execution_count": null,
      "outputs": []
    },
    {
      "cell_type": "code",
      "source": [
        "extract_emojis(master_list[0]).split()"
      ],
      "metadata": {
        "colab": {
          "base_uri": "https://localhost:8080/"
        },
        "id": "mH6a--ANDJ5d",
        "outputId": "fe605353-ad86-4a17-c6e6-128be7739e0b"
      },
      "execution_count": null,
      "outputs": [
        {
          "output_type": "execute_result",
          "data": {
            "text/plain": [
              "['🌹', '🥀']"
            ]
          },
          "metadata": {},
          "execution_count": 9
        }
      ]
    },
    {
      "cell_type": "code",
      "source": [
        "df_list = []\n",
        "for i in master_list:        \n",
        "    tags = extract_emojis(i)    \n",
        "    for x in tags.split():        \n",
        "        lst = []\n",
        "        lst.append(remove_emojis(i[:i.find('#')]))\n",
        "        lst.append(x)        \n",
        "        df_list.append(lst)\n",
        "pd.DataFrame(df_list)"
      ],
      "metadata": {
        "id": "wOhBNWre_XxY"
      },
      "execution_count": null,
      "outputs": []
    },
    {
      "cell_type": "code",
      "source": [
        "df_emojis = pd.DataFrame(df_list)\n",
        "# df_emojis.to_csv('/content/drive/MyDrive/Information Retrieval Project/Instagram worthy captions dataset/final_data_with_emojis.csv')"
      ],
      "metadata": {
        "id": "dRIASNWlABId"
      },
      "execution_count": null,
      "outputs": []
    },
    {
      "cell_type": "code",
      "source": [
        "emoji_master_list = []\n",
        "for i in range(len(df)):\n",
        "    lst = []\n",
        "    for j in df.columns[1:]:\n",
        "        lst.append(extract_emojis(df.iloc[i][j]))\n",
        "    emoji_master_list.append(lst)    "
      ],
      "metadata": {
        "id": "tN4UQqls-U_j"
      },
      "execution_count": null,
      "outputs": []
    },
    {
      "cell_type": "code",
      "source": [
        "emoji_df_from_list = pd.DataFrame(emoji_master_list)"
      ],
      "metadata": {
        "id": "3AXj8mgx-wMc"
      },
      "execution_count": null,
      "outputs": []
    },
    {
      "cell_type": "code",
      "source": [
        "emoji_df_from_list"
      ],
      "metadata": {
        "id": "nUYiCSDG-98-"
      },
      "execution_count": null,
      "outputs": []
    },
    {
      "cell_type": "code",
      "source": [
        "emoji_df = df.copy()"
      ],
      "metadata": {
        "id": "mTrNyzT6dTdx"
      },
      "execution_count": null,
      "outputs": []
    },
    {
      "cell_type": "code",
      "source": [
        "emoji_df['Emojis'] = emoji_df.apply(lambda x: extract_emojis(x), axis = 1)"
      ],
      "metadata": {
        "id": "HiFhKgzpdVwX"
      },
      "execution_count": null,
      "outputs": []
    },
    {
      "cell_type": "code",
      "source": [
        "emoji_df.head()"
      ],
      "metadata": {
        "id": "FKgp2uyadwqm"
      },
      "execution_count": null,
      "outputs": []
    },
    {
      "cell_type": "code",
      "source": [
        "emoji_df.to_csv('/content/drive/MyDrive/Information Retrieval Project/Instagram worthy captions dataset/final_data_with_emojis.csv')"
      ],
      "metadata": {
        "id": "7USxVeQveDD9"
      },
      "execution_count": null,
      "outputs": []
    },
    {
      "cell_type": "markdown",
      "source": [
        "GENERATING HASHTAG WALA DATAFRAME"
      ],
      "metadata": {
        "id": "oWG08InAcuC2"
      }
    },
    {
      "cell_type": "code",
      "source": [
        "def detect_tags(x):\n",
        "    # s = ''\n",
        "    # for i in ['Creative Caption 1', 'Creative Caption 2', 'Creative Caption 3']:\n",
        "    #     content = row[i]             \n",
        "    #     hashtags = content[content.find('#'):-1]\n",
        "    #     s+=hashtags + ' '\n",
        "    return x[x.find('#'):-1]"
      ],
      "metadata": {
        "id": "MXrTToxdCR1V"
      },
      "execution_count": null,
      "outputs": []
    },
    {
      "cell_type": "code",
      "source": [
        "master_list = []\n",
        "for i in range(len(df)):\n",
        "    for j in df.columns[1:]:\n",
        "        master_list.append(df.iloc[i][j])        "
      ],
      "metadata": {
        "id": "zFk8oTgLBFF4"
      },
      "execution_count": null,
      "outputs": []
    },
    {
      "cell_type": "code",
      "source": [
        "df_list = []\n",
        "for i in master_list:        \n",
        "    tags = detect_tags(i)\n",
        "    for x in tags.split():\n",
        "        lst = []\n",
        "        lst.append(i[:i.find('#')])\n",
        "        lst.append(x)\n",
        "        df_list.append(lst)\n"
      ],
      "metadata": {
        "id": "2t0daUWWBUnB"
      },
      "execution_count": null,
      "outputs": []
    },
    {
      "cell_type": "code",
      "source": [
        "df_list"
      ],
      "metadata": {
        "id": "Utm_qe_LBoVx"
      },
      "execution_count": null,
      "outputs": []
    },
    {
      "cell_type": "code",
      "source": [
        "df_without_hashtags = pd.DataFrame(df_list, columns = ['Caption', 'Tags'])\n",
        "df_without_hashtags"
      ],
      "metadata": {
        "id": "pFFLvlJhBikh"
      },
      "execution_count": null,
      "outputs": []
    },
    {
      "cell_type": "code",
      "source": [
        "df.to_csv('/content/drive/MyDrive/Information Retrieval Project/Instagram worthy captions dataset/final_data_with_hashtags_2.csv')"
      ],
      "metadata": {
        "id": "70p9dA0mCVG9"
      },
      "execution_count": null,
      "outputs": []
    },
    {
      "cell_type": "code",
      "source": [
        "df['Hashtags'] = df.apply(lambda row: detect_tags(row), axis = 1)"
      ],
      "metadata": {
        "id": "BaAVgSnMCbUV"
      },
      "execution_count": null,
      "outputs": []
    },
    {
      "cell_type": "code",
      "source": [
        "df.to_csv('/content/drive/MyDrive/Information Retrieval Project/Instagram worthy captions dataset/final_data_with_hashtags.csv')"
      ],
      "metadata": {
        "id": "-SGNawgXCyZ_"
      },
      "execution_count": null,
      "outputs": []
    },
    {
      "cell_type": "code",
      "source": [
        "df.head()\n",
        "df.iloc[0]"
      ],
      "metadata": {
        "colab": {
          "base_uri": "https://localhost:8080/"
        },
        "id": "Jd_T2tmYApU8",
        "outputId": "72a8f24e-ebfb-4a07-eadc-e6a742d8511b"
      },
      "execution_count": null,
      "outputs": [
        {
          "output_type": "execute_result",
          "data": {
            "text/plain": [
              "Original Caption      Beauty and the beast is this prince that's all...\n",
              "Creative Caption 1    \"Falling for the fairytale 🌹🥀 #beautyandthebea...\n",
              "Creative Caption 2    \"A tale as old as time 🕰️💕 #disneylover #fairy...\n",
              "Creative Caption 3    \"Happily ever after with my beast 👸🦁 #myprince...\n",
              "Hashtags              #beautyandthebeast #fairytalelove #happilyever...\n",
              "Name: 0, dtype: object"
            ]
          },
          "metadata": {},
          "execution_count": 55
        }
      ]
    },
    {
      "cell_type": "code",
      "source": [
        "detect_tags(df.iloc[0])"
      ],
      "metadata": {
        "colab": {
          "base_uri": "https://localhost:8080/",
          "height": 53
        },
        "id": "SUm98ST8DJkT",
        "outputId": "d241916c-1c4a-4bab-dada-e7b3fa75052e"
      },
      "execution_count": null,
      "outputs": [
        {
          "output_type": "execute_result",
          "data": {
            "text/plain": [
              "'#beautyandthebeast #fairytalelove #happilyeverafter #disneylover #fairytalelife #romantic #myprincecharming #fairytaleending #truelove '"
            ],
            "application/vnd.google.colaboratory.intrinsic+json": {
              "type": "string"
            }
          },
          "metadata": {},
          "execution_count": 31
        }
      ]
    },
    {
      "cell_type": "markdown",
      "source": [
        "GENERATING A DF WITHOUT HASHTAGS"
      ],
      "metadata": {
        "id": "fG--g689cxdh"
      }
    },
    {
      "cell_type": "code",
      "source": [
        "def remove_hashtags_OG(row):    \n",
        "    s = str(row['Original Caption'])  \n",
        "    try:\n",
        "        return s[:s.index('#')]\n",
        "    except:\n",
        "        return s"
      ],
      "metadata": {
        "id": "gHX2FvjmU4vP"
      },
      "execution_count": null,
      "outputs": []
    },
    {
      "cell_type": "code",
      "source": [
        "def remove_hashtags_1(row):    \n",
        "    s = str(row['Creative Caption 1'])  \n",
        "    try:\n",
        "        return s[:s.index('#')]\n",
        "    except:\n",
        "        return s"
      ],
      "metadata": {
        "id": "etl5fEZwPeNE"
      },
      "execution_count": null,
      "outputs": []
    },
    {
      "cell_type": "code",
      "source": [
        "def remove_hashtags_2(row):    \n",
        "    s = str(row['Creative Caption 2'])  \n",
        "    try:\n",
        "        return s[:s.index('#')]\n",
        "    except:\n",
        "        return s"
      ],
      "metadata": {
        "id": "Up18hj9FPg66"
      },
      "execution_count": null,
      "outputs": []
    },
    {
      "cell_type": "code",
      "source": [
        "def remove_hashtags_3(row):    \n",
        "    s = str(row['Creative Caption 3'])  \n",
        "    try:\n",
        "        return s[:s.index('#')]\n",
        "    except:\n",
        "        return s"
      ],
      "metadata": {
        "id": "4hksfzLSPiiu"
      },
      "execution_count": null,
      "outputs": []
    },
    {
      "cell_type": "code",
      "source": [
        "df.head()"
      ],
      "metadata": {
        "colab": {
          "base_uri": "https://localhost:8080/",
          "height": 337
        },
        "id": "sCxCmhAQOjlV",
        "outputId": "7c0bd746-3538-4747-b480-ab71e207c21d"
      },
      "execution_count": null,
      "outputs": [
        {
          "output_type": "execute_result",
          "data": {
            "text/plain": [
              "                                    Original Caption  \\\n",
              "0  Beauty and the beast is this prince that's all...   \n",
              "1  A rare photograph of an actor signing autographs.   \n",
              "2  A model walks the runway for a fashion show du...   \n",
              "3  Rock artist is the first artist to win a posth...   \n",
              "4                  Fat mouse with a piece of cheese.   \n",
              "\n",
              "                                  Creative Caption 1  \\\n",
              "0  \"Falling for the fairytale 🌹🥀 #beautyandthebea...   \n",
              "1  \"Capturing a moment in time 📸🎬 #hollywoodlegen...   \n",
              "2  \"Walking on air in couture flair ✨👠 #fashionwe...   \n",
              "3  \"Remembering a musical genius 🎵🤘 #rocklegend #...   \n",
              "4  \"Living my best life with some cheese 🧀😋 #food...   \n",
              "\n",
              "                                  Creative Caption 2  \\\n",
              "0  \"A tale as old as time 🕰️💕 #disneylover #fairy...   \n",
              "1  \"Inked memories for a lifetime 🖋️🎞️ #actorlife...   \n",
              "2  \"Stealing the show in style 👑🌟 #modelbehavior ...   \n",
              "3  \"Legends never die 🎸🌟 #rockstarforever #musica...   \n",
              "4  \"Food coma goals 🐭💤 #snacktime #mousediaries #...   \n",
              "\n",
              "                                  Creative Caption 3  \n",
              "0  \"Happily ever after with my beast 👸🦁 #myprince...  \n",
              "1  \"A glimpse into history 🎥🔮 #nostalgicvibes #ti...  \n",
              "2  \"Strutting my stuff in the limelight 💃🏻✨ #catw...  \n",
              "3  \"Living on through the power of music 🎶🎤 #musi...  \n",
              "4  \"Say cheese 📸🐁 #foodphotography #cutemouse #fo...  "
            ],
            "text/html": [
              "\n",
              "  <div id=\"df-97e7631e-b44c-4007-9175-ed370292dc69\">\n",
              "    <div class=\"colab-df-container\">\n",
              "      <div>\n",
              "<style scoped>\n",
              "    .dataframe tbody tr th:only-of-type {\n",
              "        vertical-align: middle;\n",
              "    }\n",
              "\n",
              "    .dataframe tbody tr th {\n",
              "        vertical-align: top;\n",
              "    }\n",
              "\n",
              "    .dataframe thead th {\n",
              "        text-align: right;\n",
              "    }\n",
              "</style>\n",
              "<table border=\"1\" class=\"dataframe\">\n",
              "  <thead>\n",
              "    <tr style=\"text-align: right;\">\n",
              "      <th></th>\n",
              "      <th>Original Caption</th>\n",
              "      <th>Creative Caption 1</th>\n",
              "      <th>Creative Caption 2</th>\n",
              "      <th>Creative Caption 3</th>\n",
              "    </tr>\n",
              "  </thead>\n",
              "  <tbody>\n",
              "    <tr>\n",
              "      <th>0</th>\n",
              "      <td>Beauty and the beast is this prince that's all...</td>\n",
              "      <td>\"Falling for the fairytale 🌹🥀 #beautyandthebea...</td>\n",
              "      <td>\"A tale as old as time 🕰️💕 #disneylover #fairy...</td>\n",
              "      <td>\"Happily ever after with my beast 👸🦁 #myprince...</td>\n",
              "    </tr>\n",
              "    <tr>\n",
              "      <th>1</th>\n",
              "      <td>A rare photograph of an actor signing autographs.</td>\n",
              "      <td>\"Capturing a moment in time 📸🎬 #hollywoodlegen...</td>\n",
              "      <td>\"Inked memories for a lifetime 🖋️🎞️ #actorlife...</td>\n",
              "      <td>\"A glimpse into history 🎥🔮 #nostalgicvibes #ti...</td>\n",
              "    </tr>\n",
              "    <tr>\n",
              "      <th>2</th>\n",
              "      <td>A model walks the runway for a fashion show du...</td>\n",
              "      <td>\"Walking on air in couture flair ✨👠 #fashionwe...</td>\n",
              "      <td>\"Stealing the show in style 👑🌟 #modelbehavior ...</td>\n",
              "      <td>\"Strutting my stuff in the limelight 💃🏻✨ #catw...</td>\n",
              "    </tr>\n",
              "    <tr>\n",
              "      <th>3</th>\n",
              "      <td>Rock artist is the first artist to win a posth...</td>\n",
              "      <td>\"Remembering a musical genius 🎵🤘 #rocklegend #...</td>\n",
              "      <td>\"Legends never die 🎸🌟 #rockstarforever #musica...</td>\n",
              "      <td>\"Living on through the power of music 🎶🎤 #musi...</td>\n",
              "    </tr>\n",
              "    <tr>\n",
              "      <th>4</th>\n",
              "      <td>Fat mouse with a piece of cheese.</td>\n",
              "      <td>\"Living my best life with some cheese 🧀😋 #food...</td>\n",
              "      <td>\"Food coma goals 🐭💤 #snacktime #mousediaries #...</td>\n",
              "      <td>\"Say cheese 📸🐁 #foodphotography #cutemouse #fo...</td>\n",
              "    </tr>\n",
              "  </tbody>\n",
              "</table>\n",
              "</div>\n",
              "      <button class=\"colab-df-convert\" onclick=\"convertToInteractive('df-97e7631e-b44c-4007-9175-ed370292dc69')\"\n",
              "              title=\"Convert this dataframe to an interactive table.\"\n",
              "              style=\"display:none;\">\n",
              "        \n",
              "  <svg xmlns=\"http://www.w3.org/2000/svg\" height=\"24px\"viewBox=\"0 0 24 24\"\n",
              "       width=\"24px\">\n",
              "    <path d=\"M0 0h24v24H0V0z\" fill=\"none\"/>\n",
              "    <path d=\"M18.56 5.44l.94 2.06.94-2.06 2.06-.94-2.06-.94-.94-2.06-.94 2.06-2.06.94zm-11 1L8.5 8.5l.94-2.06 2.06-.94-2.06-.94L8.5 2.5l-.94 2.06-2.06.94zm10 10l.94 2.06.94-2.06 2.06-.94-2.06-.94-.94-2.06-.94 2.06-2.06.94z\"/><path d=\"M17.41 7.96l-1.37-1.37c-.4-.4-.92-.59-1.43-.59-.52 0-1.04.2-1.43.59L10.3 9.45l-7.72 7.72c-.78.78-.78 2.05 0 2.83L4 21.41c.39.39.9.59 1.41.59.51 0 1.02-.2 1.41-.59l7.78-7.78 2.81-2.81c.8-.78.8-2.07 0-2.86zM5.41 20L4 18.59l7.72-7.72 1.47 1.35L5.41 20z\"/>\n",
              "  </svg>\n",
              "      </button>\n",
              "      \n",
              "  <style>\n",
              "    .colab-df-container {\n",
              "      display:flex;\n",
              "      flex-wrap:wrap;\n",
              "      gap: 12px;\n",
              "    }\n",
              "\n",
              "    .colab-df-convert {\n",
              "      background-color: #E8F0FE;\n",
              "      border: none;\n",
              "      border-radius: 50%;\n",
              "      cursor: pointer;\n",
              "      display: none;\n",
              "      fill: #1967D2;\n",
              "      height: 32px;\n",
              "      padding: 0 0 0 0;\n",
              "      width: 32px;\n",
              "    }\n",
              "\n",
              "    .colab-df-convert:hover {\n",
              "      background-color: #E2EBFA;\n",
              "      box-shadow: 0px 1px 2px rgba(60, 64, 67, 0.3), 0px 1px 3px 1px rgba(60, 64, 67, 0.15);\n",
              "      fill: #174EA6;\n",
              "    }\n",
              "\n",
              "    [theme=dark] .colab-df-convert {\n",
              "      background-color: #3B4455;\n",
              "      fill: #D2E3FC;\n",
              "    }\n",
              "\n",
              "    [theme=dark] .colab-df-convert:hover {\n",
              "      background-color: #434B5C;\n",
              "      box-shadow: 0px 1px 3px 1px rgba(0, 0, 0, 0.15);\n",
              "      filter: drop-shadow(0px 1px 2px rgba(0, 0, 0, 0.3));\n",
              "      fill: #FFFFFF;\n",
              "    }\n",
              "  </style>\n",
              "\n",
              "      <script>\n",
              "        const buttonEl =\n",
              "          document.querySelector('#df-97e7631e-b44c-4007-9175-ed370292dc69 button.colab-df-convert');\n",
              "        buttonEl.style.display =\n",
              "          google.colab.kernel.accessAllowed ? 'block' : 'none';\n",
              "\n",
              "        async function convertToInteractive(key) {\n",
              "          const element = document.querySelector('#df-97e7631e-b44c-4007-9175-ed370292dc69');\n",
              "          const dataTable =\n",
              "            await google.colab.kernel.invokeFunction('convertToInteractive',\n",
              "                                                     [key], {});\n",
              "          if (!dataTable) return;\n",
              "\n",
              "          const docLinkHtml = 'Like what you see? Visit the ' +\n",
              "            '<a target=\"_blank\" href=https://colab.research.google.com/notebooks/data_table.ipynb>data table notebook</a>'\n",
              "            + ' to learn more about interactive tables.';\n",
              "          element.innerHTML = '';\n",
              "          dataTable['output_type'] = 'display_data';\n",
              "          await google.colab.output.renderOutput(dataTable, element);\n",
              "          const docLink = document.createElement('div');\n",
              "          docLink.innerHTML = docLinkHtml;\n",
              "          element.appendChild(docLink);\n",
              "        }\n",
              "      </script>\n",
              "    </div>\n",
              "  </div>\n",
              "  "
            ]
          },
          "metadata": {},
          "execution_count": 16
        }
      ]
    },
    {
      "cell_type": "code",
      "source": [
        "df_without_hashtags = df.copy()\n",
        "df_without_hashtags['Original Caption'] = df.apply(lambda row: remove_hashtags_OG(row), axis = 1)\n",
        "df_without_hashtags['Creative Caption 1'] = df.apply(lambda row: remove_hashtags_1(row), axis = 1)\n",
        "df_without_hashtags['Creative Caption 2'] = df.apply(lambda row: remove_hashtags_2(row), axis = 1)\n",
        "df_without_hashtags['Creative Caption 3'] = df.apply(lambda row: remove_hashtags_3(row), axis = 1)\n",
        "# df.to_csv('/content/drive/MyDrive/Information Retrieval Project/Instagram worthy captions dataset/final_data.csv')"
      ],
      "metadata": {
        "id": "sHLlRbgEVL2o"
      },
      "execution_count": null,
      "outputs": []
    },
    {
      "cell_type": "code",
      "source": [
        "df_without_hashtags"
      ],
      "metadata": {
        "id": "3wHhYmzsxtMM"
      },
      "execution_count": null,
      "outputs": []
    },
    {
      "cell_type": "markdown",
      "source": [
        "INCORPORATING IMAGE IN DS"
      ],
      "metadata": {
        "id": "srxk5xhwEMX-"
      }
    },
    {
      "cell_type": "code",
      "source": [
        "conceptual = pd.read_pickle('/content/drive/MyDrive/Information Retrieval Project/Image captioning datasets/Pickle files/conceptual_with_labels.pkl')"
      ],
      "metadata": {
        "id": "oHVaE3m3_oU1"
      },
      "execution_count": null,
      "outputs": []
    },
    {
      "cell_type": "code",
      "source": [
        "conceptual.head()"
      ],
      "metadata": {
        "id": "G4uUy7wkAC9N"
      },
      "execution_count": null,
      "outputs": []
    },
    {
      "cell_type": "code",
      "source": [
        "df = pd.read_csv('/content/drive/MyDrive/Information Retrieval Project/Instagram worthy captions dataset/final_data.csv')\n",
        "df.drop(columns = ['Unnamed: 0'], inplace = True)"
      ],
      "metadata": {
        "id": "3Cb5BG8l_1fa"
      },
      "execution_count": null,
      "outputs": []
    },
    {
      "cell_type": "code",
      "source": [
        "df.head()"
      ],
      "metadata": {
        "id": "kHP7mhpZANdR"
      },
      "execution_count": null,
      "outputs": []
    },
    {
      "cell_type": "code",
      "source": [
        "res = df.merge(conceptual, on='Original Caption')"
      ],
      "metadata": {
        "id": "3nF1PND2Ag1n"
      },
      "execution_count": null,
      "outputs": []
    },
    {
      "cell_type": "code",
      "source": [
        "res.to_pickle('/content/drive/MyDrive/Information Retrieval Project/Image captioning datasets/Pickle files/instaCaptions_images_labels_conceptual.pkl')"
      ],
      "metadata": {
        "id": "---vCeUxJuEp"
      },
      "execution_count": null,
      "outputs": []
    },
    {
      "cell_type": "code",
      "source": [
        "og_captions = df['Original Caption']\n",
        "ds_captions = conceptual['Original Caption']"
      ],
      "metadata": {
        "id": "8OzDNsbFApsw"
      },
      "execution_count": null,
      "outputs": []
    },
    {
      "cell_type": "code",
      "source": [
        "common = set(og_captions).intersection(set(ds_captions))"
      ],
      "metadata": {
        "id": "IlkXtu2HBtCw"
      },
      "execution_count": null,
      "outputs": []
    },
    {
      "cell_type": "code",
      "source": [
        "list(common)[0]"
      ],
      "metadata": {
        "colab": {
          "base_uri": "https://localhost:8080/",
          "height": 35
        },
        "id": "iV8p3oqRCREu",
        "outputId": "3f3cda50-094e-4be6-fd8b-5f4f47a325fe"
      },
      "execution_count": null,
      "outputs": [
        {
          "output_type": "execute_result",
          "data": {
            "text/plain": [
              "'walk this way : person strode through the airport in dark glasses and hat on saturday'"
            ],
            "application/vnd.google.colaboratory.intrinsic+json": {
              "type": "string"
            }
          },
          "metadata": {},
          "execution_count": 48
        }
      ]
    },
    {
      "cell_type": "code",
      "source": [
        "df[df['Original Caption'] == 'walk this way : person strode through the airport in dark glasses and hat on saturday']   "
      ],
      "metadata": {
        "id": "BTqwncD9C7Ah"
      },
      "execution_count": null,
      "outputs": []
    },
    {
      "cell_type": "code",
      "source": [
        "conceptual[conceptual['Original Caption'] == 'football player reacts during the match']"
      ],
      "metadata": {
        "id": "lff1p-luDuT6"
      },
      "execution_count": null,
      "outputs": []
    },
    {
      "cell_type": "code",
      "source": [
        "dataset_with_images = pd.DataFrame()"
      ],
      "metadata": {
        "id": "4nAkHu_CEAgS"
      },
      "execution_count": null,
      "outputs": []
    }
  ]
}